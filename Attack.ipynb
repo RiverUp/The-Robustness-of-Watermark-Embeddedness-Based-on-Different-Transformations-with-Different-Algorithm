{
 "cells": [
  {
   "cell_type": "code",
   "execution_count": null,
   "id": "21997f06",
   "metadata": {},
   "outputs": [],
   "source": [
    "import cv2\n",
    "import numpy as np\n",
    "\n",
    "#blur\n",
    "\n",
    "#compress\n",
    "\n",
    "def sharpen(img):\n",
    "    sharpened=cv2.Laplacian(img,cv2.CV_16S,5)\n",
    "    abs_sharpened=cv2.convertScaleAbs(sharpened)\n",
    "    return abs_sharpened\n",
    "\n",
    "def saltAndPepper(img,snr):\n",
    "    h=img.shape[0]\n",
    "    w=img.shape[1]\n",
    "    img1=img.copy()\n",
    "    sp=h*w   # 计算图像像素点个数\n",
    "    NP=int(sp*(1-snr))   # 计算图像椒盐噪声点个数\n",
    "    for i in range (NP):\n",
    "        randx=np.random.randint(1,h-1)   # 生成一个 1 至 h-1 之间的随机整数\n",
    "        randy=np.random.randint(1,w-1)   # 生成一个 1 至 w-1 之间的随机整数\n",
    "        if np.random.random()<=0.5:   # np.random.random()生成一个 0 至 1 之间的浮点数\n",
    "            img1[randx,randy]=0\n",
    "        else:\n",
    "            img1[randx,randy]=255\n",
    "    return img1\n",
    "\n",
    "def rotate(img):\n",
    "    h,w=img.shape[:2]\n",
    "    center = (w // 2, h // 2)\n",
    "    M = cv2.getRotationMatrix2D(center, -90, 1)\n",
    "    rotated=cv2.warpAffine(img, M, (w, h))\n",
    "    return rotated\n",
    "\n",
    "def crop(img):\n",
    "    cropped=np.array(img)\n",
    "    cropped[200:320,0:320]=0\n",
    "    cropped[0:320,200:320]=0\n",
    "    return cropped"
   ]
  }
 ],
 "metadata": {
  "kernelspec": {
   "display_name": "dip2",
   "language": "python",
   "name": "dip2"
  },
  "language_info": {
   "codemirror_mode": {
    "name": "ipython",
    "version": 3
   },
   "file_extension": ".py",
   "mimetype": "text/x-python",
   "name": "python",
   "nbconvert_exporter": "python",
   "pygments_lexer": "ipython3",
   "version": "3.6.2"
  }
 },
 "nbformat": 4,
 "nbformat_minor": 5
}
