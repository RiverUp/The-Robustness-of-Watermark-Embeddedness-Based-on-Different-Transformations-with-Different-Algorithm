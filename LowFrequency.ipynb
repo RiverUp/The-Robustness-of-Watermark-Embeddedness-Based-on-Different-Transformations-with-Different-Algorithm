{
 "cells": [
  {
   "cell_type": "code",
   "execution_count": 4,
   "id": "2904ba82",
   "metadata": {},
   "outputs": [
    {
     "name": "stdout",
     "output_type": "stream",
     "text": [
      "The autoreload extension is already loaded. To reload it, use:\n",
      "  %reload_ext autoreload\n",
      "-------\n",
      "0.9626168224299065\n",
      "0.31873345101500444\n",
      "0.9851861980947172\n",
      "0.0\n",
      "0.10302495386343577\n",
      "0.5540453074433657\n",
      "0.9953488372093023\n",
      "0.8494906499593476\n"
     ]
    },
    {
     "data": {
      "text/plain": [
       "-1"
      ]
     },
     "execution_count": 4,
     "metadata": {},
     "output_type": "execute_result"
    }
   ],
   "source": [
    "%load_ext autoreload\n",
    "%autoreload 2\n",
    "import cv2 \n",
    "import numpy as np\n",
    "import pywt\n",
    "import difflib\n",
    "import matplotlib.pyplot as plt\n",
    "import WatermarkOperation as wd\n",
    "import Attack as atk\n",
    "%matplotlib inline\n",
    "import numpy as np\n",
    "import pywt\n",
    "\n",
    "image = cv2.imread(\"./image/cover.png\",cv2.IMREAD_GRAYSCALE)\n",
    "np.random.seed(261025)\n",
    "imageAftWav=pywt.wavedec2(image,\"db4\",mode=\"periodization\",level=3,axes=(-2, -1))\n",
    "ll3=imageAftWav[0]\n",
    "t2=750\n",
    "t1=480\n",
    "wat_stored=wd.embedWatQuan(ll3,t1,t2)\n",
    "imageAftIdwt=pywt.waverec2(imageAftWav,\"db4\",mode=\"periodization\",axes=(-2, -1))\n",
    "pic=(imageAftIdwt).astype(np.uint8)\n",
    "imageAftWav2=pywt.wavedec2(pic,\"db4\",mode=\"periodization\",level=3,axes=(-2, -1))\n",
    "ll3=imageAftWav2[0]\n",
    "\n",
    "\n",
    "base_ratio=wd.detectWatQuan(wat_stored,ll3,t1,t2)\n",
    "\n",
    "#beforeWater\n",
    "imageAftWav2=pywt.wavedec2(image,\"db4\",mode=\"periodization\",level=3,axes=(-2, -1))\n",
    "ll3=imageAftWav2[0]\n",
    "before_ratio=wd.detectWatQuan(wat_stored,ll3,t1,t2)\n",
    "#blur\n",
    "blurred=cv2.GaussianBlur(pic,(5,5),0)\n",
    "imageAftWav2=pywt.wavedec2(blurred,\"db4\",mode=\"periodization\",level=3,axes=(-2, -1))\n",
    "ll3=imageAftWav2[0]\n",
    "blurred_ratio=wd.detectWatQuan(wat_stored,ll3,t1,t2)\n",
    "#sharpen\n",
    "sharpened=atk.sharpen(pic)\n",
    "imageAftWav2=pywt.wavedec2(sharpened,\"db4\",mode=\"periodization\",level=3,axes=(-2, -1))\n",
    "ll3=imageAftWav2[0]\n",
    "sharpened_ratio=wd.detectWatQuan(wat_stored,ll3,t1,t2)\n",
    "#rotate\n",
    "rotated=atk.rotate(pic)\n",
    "imageAftWav2=pywt.wavedec2(rotated,\"db4\",mode=\"periodization\",level=3,axes=(-2, -1))\n",
    "ll3=imageAftWav2[0]\n",
    "rotated_ratio=wd.detectWatQuan(wat_stored,ll3,t1,t2)\n",
    "#crop\n",
    "cropped=atk.crop(pic)\n",
    "imageAftWav2=pywt.wavedec2(cropped,\"db4\",mode=\"periodization\",level=3,axes=(-2, -1))\n",
    "ll3=imageAftWav2[0]\n",
    "cropped_ratio=wd.detectWatQuan(wat_stored,ll3,t1,t2)\n",
    "#compress\n",
    "cv2.imwrite(\"./image/LowFrequencyImg/compressed.jpg\", pic, [cv2.IMWRITE_JPEG_QUALITY, 50])\n",
    "compressed=cv2.imread(\"./image/LowFrequencyImg/compressed.jpg\",cv2.IMREAD_GRAYSCALE)\n",
    "imageAftWav2=pywt.wavedec2(compressed,\"db4\",mode=\"periodization\",level=3,axes=(-2, -1))\n",
    "ll3=imageAftWav2[0]\n",
    "compressed_ratio=wd.detectWatQuan(wat_stored,ll3,t1,t2)\n",
    "# salt and pepper\n",
    "saltAndPep=atk.saltAndPepper(pic,0.95)\n",
    "imageAftWav2=pywt.wavedec2(saltAndPep,\"db4\",mode=\"periodization\",level=3,axes=(-2, -1))\n",
    "ll3=imageAftWav2[0]\n",
    "saltAndPep_ratio=wd.detectWatQuan(wat_stored,ll3,t1,t2)\n",
    "\n",
    "cv2.imwrite(\"./image/LowFrequencyImg/blurred.jpg\",blurred,[cv2.IMWRITE_JPEG_QUALITY, 100])\n",
    "cv2.imwrite(\"./image/LowFrequencyImg/sharpened.jpg\",sharpened,[cv2.IMWRITE_JPEG_QUALITY, 100])\n",
    "cv2.imwrite(\"./image/LowFrequencyImg/rotated.jpg\",rotated,[cv2.IMWRITE_JPEG_QUALITY, 100])\n",
    "cv2.imwrite(\"./image/LowFrequencyImg/cropped.jpg\",cropped,[cv2.IMWRITE_JPEG_QUALITY, 100])\n",
    "#cv2.imwrite(\"./image/LowFrequencyImg/compressed.jpg\",compressed,[cv2.IMWRITE_JPEG_QUALITY, 100])\n",
    "cv2.imwrite(\"./image/LowFrequencyImg/saltAndPep.jpg\",saltAndPep,[cv2.IMWRITE_JPEG_QUALITY, 100])\n",
    "cv2.imwrite(\"./image/LowFrequencyImg/beforeAttack.jpg\",pic,[cv2.IMWRITE_JPEG_QUALITY, 100])\n",
    "print(\"-------\")\n",
    "print(base_ratio)\n",
    "print(before_ratio/base_ratio)\n",
    "print(blurred_ratio/base_ratio)\n",
    "print(sharpened_ratio/base_ratio)\n",
    "print(rotated_ratio/base_ratio)\n",
    "print(cropped_ratio/base_ratio)\n",
    "print(compressed_ratio/base_ratio)\n",
    "print(saltAndPep_ratio/base_ratio)\n",
    "\n",
    "cv2.waitKey()"
   ]
  },
  {
   "cell_type": "code",
   "execution_count": null,
   "id": "98521a2f",
   "metadata": {},
   "outputs": [],
   "source": []
  }
 ],
 "metadata": {
  "kernelspec": {
   "display_name": "dip2",
   "language": "python",
   "name": "dip2"
  },
  "language_info": {
   "codemirror_mode": {
    "name": "ipython",
    "version": 3
   },
   "file_extension": ".py",
   "mimetype": "text/x-python",
   "name": "python",
   "nbconvert_exporter": "python",
   "pygments_lexer": "ipython3",
   "version": "3.6.2"
  }
 },
 "nbformat": 4,
 "nbformat_minor": 5
}
