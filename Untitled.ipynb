{
 "cells": [
  {
   "cell_type": "code",
   "execution_count": null,
   "id": "8d65cf69",
   "metadata": {},
   "outputs": [
    {
     "name": "stdout",
     "output_type": "stream",
     "text": [
      "1.0\n"
     ]
    }
   ],
   "source": [
    "import cv2 \n",
    "import numpy as np\n",
    "import pywt\n",
    "import difflib\n",
    "import matplotlib.pyplot as plt\n",
    "import Water_Detection as wd\n",
    "%matplotlib inline\n",
    "import numpy as np\n",
    "import pywt\n",
    "\n",
    "image = cv2.imread(\"./image/cover.png\",cv2.IMREAD_GRAYSCALE)\n",
    "np.random.seed(261025)\n",
    "imageAftWav=pywt.wavedec2(image,\"db4\",mode=\"periodization\",level=3,axes=(-2, -1))\n",
    "ll3=imageAftWav[0]\n",
    "t2=200\n",
    "t1=115\n",
    "X1=20\n",
    "watLen=0\n",
    "for i in range(40):\n",
    "    for j in range(40):\n",
    "        if (ll3[i][j]>t1 and ll3[i][j]<t2) or (ll3[i][j]<-t1 and ll3[i][j]>-t2):\n",
    "            watLen+=1\n",
    "wat=np.random.choice(a=[False,True],size=watLen)\n",
    "watNo=0\n",
    "for i in range(40):\n",
    "    for j in range(40):\n",
    "        if (ll3[i][j]>115 and ll3[i][j]<200) and wat[watNo]==True:\n",
    "            ll3[i][j]=t2-X1\n",
    "            watNo+=1\n",
    "        elif (ll3[i][j]>115 and ll3[i][j]<200) and wat[watNo]==False:\n",
    "            ll3[i][j]=t1+X1\n",
    "            watNo+=1\n",
    "        elif (ll3[i][j]<-115 and ll3[i][j]>-200) and wat[watNo]==True:\n",
    "            ll3[i][j]=-t2+X1\n",
    "            watNo+=1\n",
    "        elif (ll3[i][j]<-115 and ll3[i][j]>-200) and wat[watNo]==False:\n",
    "            ll3[i][j]=-t1-X1\n",
    "            watNo+=1  \n",
    "imageAftIdwt=pywt.waverec2(imageAftWav,\"db4\",mode=\"periodization\",axes=(-2, -1))\n",
    "pic=(imageAftIdwt).astype(np.uint8)\n",
    "imageAftWav2=pywt.wavedec2(pic,\"db4\",mode=\"periodization\",level=3,axes=(-2, -1))\n",
    "ll3=imageAftWav[0]\n",
    "#cv2.imshow(\"\",pic)\n",
    "#cv2.imshow(\"1\",image)\n",
    "base_ratio=wd.detectWatQuan(wat,ll3)\n",
    "print(base_ratio)\n",
    "cv2.waitKey()"
   ]
  },
  {
   "cell_type": "code",
   "execution_count": null,
   "id": "155208a8",
   "metadata": {},
   "outputs": [],
   "source": []
  }
 ],
 "metadata": {
  "kernelspec": {
   "display_name": "dip2",
   "language": "python",
   "name": "dip2"
  },
  "language_info": {
   "codemirror_mode": {
    "name": "ipython",
    "version": 3
   },
   "file_extension": ".py",
   "mimetype": "text/x-python",
   "name": "python",
   "nbconvert_exporter": "python",
   "pygments_lexer": "ipython3",
   "version": "3.6.2"
  }
 },
 "nbformat": 4,
 "nbformat_minor": 5
}
