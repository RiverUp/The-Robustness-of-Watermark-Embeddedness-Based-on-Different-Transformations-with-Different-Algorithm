{
 "cells": [
  {
   "cell_type": "code",
   "execution_count": null,
   "id": "e9631275",
   "metadata": {},
   "outputs": [],
   "source": [
    "import numpy as np\n",
    "import pywt\n",
    "import difflib\n",
    "\n",
    "def detectWatQuan(wat_embedded,matrix):\n",
    "    t2=200\n",
    "    t1=115\n",
    "    X2=10\n",
    "    watLen=0\n",
    "    for i in range(40):\n",
    "        for j in range(40):\n",
    "            if abs(matrix[i][j])>=t1+X2 and abs(matrix[i][j])<=t2-X2:\n",
    "                watLen+=1\n",
    "    wat_detected=np.empty(watLen,dtype=bool)\n",
    "    watNo=0\n",
    "    for i in range(40):\n",
    "        for j in range(40):\n",
    "            if abs(matrix[i][j])>=t1+X2 and abs(matrix[i][j])<=t2-X2:\n",
    "                if abs(matrix[i][j])<(t1+t2)/2:\n",
    "                    wat_detected[watNo]=False\n",
    "                if abs(matrix[i][j])>(t1+t2)/2:\n",
    "                    wat_detected[watNo]=True\n",
    "                watNo+=1\n",
    "    return difflib.SequenceMatcher(None,wat_embedded,wat_detected).quick_ratio()"
   ]
  }
 ],
 "metadata": {
  "kernelspec": {
   "display_name": "dip2",
   "language": "python",
   "name": "dip2"
  },
  "language_info": {
   "codemirror_mode": {
    "name": "ipython",
    "version": 3
   },
   "file_extension": ".py",
   "mimetype": "text/x-python",
   "name": "python",
   "nbconvert_exporter": "python",
   "pygments_lexer": "ipython3",
   "version": "3.6.2"
  }
 },
 "nbformat": 4,
 "nbformat_minor": 5
}
