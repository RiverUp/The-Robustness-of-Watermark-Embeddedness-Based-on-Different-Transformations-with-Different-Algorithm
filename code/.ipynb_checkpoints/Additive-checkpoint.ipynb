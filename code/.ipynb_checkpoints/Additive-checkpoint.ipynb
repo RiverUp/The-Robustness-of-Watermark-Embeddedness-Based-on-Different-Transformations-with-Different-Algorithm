{
 "cells": [
  {
   "cell_type": "code",
   "execution_count": null,
   "id": "2fac138c",
   "metadata": {},
   "outputs": [
    {
     "name": "stdout",
     "output_type": "stream",
     "text": [
      "The autoreload extension is already loaded. To reload it, use:\n",
      "  %reload_ext autoreload\n",
      "164.409729114\n",
      "-0.107956757829\n",
      "1.06680046383\n",
      "0.339498921454\n",
      "-0.00864172818718\n",
      "1.41269458033\n",
      "0.964196334025\n",
      "1.06504247953\n"
     ]
    }
   ],
   "source": [
    "%load_ext autoreload\n",
    "%autoreload 2\n",
    "import cv2 \n",
    "import numpy as np\n",
    "import pywt\n",
    "import difflib\n",
    "import matplotlib.pyplot as plt\n",
    "import WatermarkOperation as wd\n",
    "import Attack as atk\n",
    "%matplotlib inline\n",
    "\n",
    "\n",
    "image = cv2.imread(\"./image/cover.png\",cv2.IMREAD_GRAYSCALE)\n",
    "np.random.seed(261025)\n",
    "imageAftWav=pywt.wavedec2(image,\"db4\",mode=\"periodization\",level=3,axes=(-2, -1))\n",
    "hl3=imageAftWav[1][0]\n",
    "t2=200\n",
    "t1=175\n",
    "wat_stored=wd.embedWatAddi(hl3,t1)           \n",
    "imageAftIdwt=pywt.waverec2(imageAftWav,\"db4\",mode=\"periodization\",axes=(-2, -1))\n",
    "pic=(imageAftIdwt).astype(np.uint8)\n",
    "imageAftWav2=pywt.wavedec2(pic,\"db4\",mode=\"periodization\",level=3,axes=(-2, -1))\n",
    "hl3=imageAftWav2[1][0]\n",
    "base_ratio=wd.detectWatAddi(wat_stored,hl3,t2)\n",
    "\n",
    "\n",
    "#beforeWater\n",
    "imageAftWav2=pywt.wavedec2(image,\"db4\",mode=\"periodization\",level=3,axes=(-2, -1))\n",
    "hl3=imageAftWav2[1][0]\n",
    "before_ratio=wd.detectWatAddi(wat_stored,hl3,t2)\n",
    "# blur\n",
    "blurred=cv2.GaussianBlur(pic,(5,5),0)\n",
    "imageAftWav2=pywt.wavedec2(blurred,\"db4\",mode=\"periodization\",level=3,axes=(-2, -1))\n",
    "hl3=imageAftWav2[1][0]\n",
    "blurred_ratio=wd.detectWatAddi(wat_stored,hl3,t2)\n",
    "#sharpen\n",
    "sharpened=atk.sharpen(pic)\n",
    "imageAftWav2=pywt.wavedec2(sharpened,\"db4\",mode=\"periodization\",level=3,axes=(-2, -1))\n",
    "hl3=imageAftWav2[1][0]\n",
    "sharpened_ratio=wd.detectWatAddi(wat_stored,hl3,t2)\n",
    "#rotate\n",
    "rotated=atk.rotate(pic)\n",
    "imageAftWav2=pywt.wavedec2(rotated,\"db4\",mode=\"periodization\",level=3,axes=(-2, -1))\n",
    "hl3=imageAftWav2[1][0]\n",
    "rotated_ratio=wd.detectWatAddi(wat_stored,hl3,t2)\n",
    "#crop\n",
    "cropped=atk.crop(pic)\n",
    "imageAftWav2=pywt.wavedec2(cropped,\"db4\",mode=\"periodization\",level=3,axes=(-2, -1))\n",
    "hl3=imageAftWav2[1][0]\n",
    "cropped_ratio=wd.detectWatAddi(wat_stored,hl3,t2)\n",
    "#compress\n",
    "cv2.imwrite(\"./image/ReferenceImg/compressed.jpg\", pic, [cv2.IMWRITE_JPEG_QUALITY, 50])\n",
    "compressed=cv2.imread(\"./image/ReferenceImg/compressed.jpg\",cv2.IMREAD_GRAYSCALE)\n",
    "imageAftWav2=pywt.wavedec2(compressed,\"db4\",mode=\"periodization\",level=3,axes=(-2, -1))\n",
    "hl3=imageAftWav2[1][0]\n",
    "compressed_ratio=wd.detectWatAddi(wat_stored,hl3,t2)\n",
    "# salt and pepper\n",
    "saltAndPep=atk.saltAndPepper(pic,0.95)\n",
    "imageAftWav2=pywt.wavedec2(saltAndPep,\"db4\",mode=\"periodization\",level=3,axes=(-2, -1))\n",
    "hl3=imageAftWav2[1][0]\n",
    "saltAndPep_ratio=wd.detectWatAddi(wat_stored,hl3,t2)\n",
    "\n",
    "cv2.imshow(\"\",pic)\n",
    "#cv2.imshow(\"blurred\",blurred)\n",
    "#cv2.imshow(\"sharpened\",sharpened)\n",
    "#cv2.imshow(\"rotated\",rotated)\n",
    "#cv2.imshow(\"cropped\",cropped)\n",
    "#cv2.imshow(\"compressed\",compressed)\n",
    "#cv2.imshow(\"saltAndPep\",saltAndPep)\n",
    "\n",
    "print(base_ratio)\n",
    "print(before_ratio/base_ratio)\n",
    "print(blurred_ratio/base_ratio)\n",
    "print(sharpened_ratio/base_ratio)\n",
    "print(rotated_ratio/base_ratio)\n",
    "print(cropped_ratio/base_ratio)\n",
    "print(compressed_ratio/base_ratio)\n",
    "print(saltAndPep_ratio/base_ratio)\n",
    "\n",
    "cv2.waitKey()"
   ]
  },
  {
   "cell_type": "code",
   "execution_count": null,
   "id": "4e9d0766",
   "metadata": {},
   "outputs": [],
   "source": [
    "                        "
   ]
  },
  {
   "cell_type": "code",
   "execution_count": null,
   "id": "97aa207a",
   "metadata": {},
   "outputs": [],
   "source": []
  }
 ],
 "metadata": {
  "kernelspec": {
   "display_name": "dip2",
   "language": "python",
   "name": "dip2"
  },
  "language_info": {
   "codemirror_mode": {
    "name": "ipython",
    "version": 3
   },
   "file_extension": ".py",
   "mimetype": "text/x-python",
   "name": "python",
   "nbconvert_exporter": "python",
   "pygments_lexer": "ipython3",
   "version": "3.6.2"
  }
 },
 "nbformat": 4,
 "nbformat_minor": 5
}
