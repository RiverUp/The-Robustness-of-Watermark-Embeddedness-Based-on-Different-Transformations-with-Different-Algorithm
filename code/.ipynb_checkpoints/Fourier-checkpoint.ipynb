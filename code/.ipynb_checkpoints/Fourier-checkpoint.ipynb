{
 "cells": [
  {
   "cell_type": "code",
   "execution_count": null,
   "id": "49e8d5f4",
   "metadata": {},
   "outputs": [
    {
     "name": "stdout",
     "output_type": "stream",
     "text": [
      "The autoreload extension is already loaded. To reload it, use:\n",
      "  %reload_ext autoreload\n"
     ]
    }
   ],
   "source": [
    "%load_ext autoreload\n",
    "%autoreload 2\n",
    "import cv2 \n",
    "import numpy as np\n",
    "import pywt\n",
    "import WatermarkOperation as wd\n",
    "import Attack as atk\n",
    "import matplotlib.pyplot as plt\n",
    "%matplotlib inline\n",
    "\n",
    "image = cv2.imread(\"./image/cover.png\",cv2.IMREAD_GRAYSCALE)\n",
    "np.random.seed(261025)\n",
    "#imageAftDft=cv2.dft(np.float32(image), flags = cv2.DFT_COMPLEX_OUTPUT)\n",
    "#imageAftIdft=cv2.idft(imageAftDft)\n",
    "#imageAftIdft = cv2.magnitude(imageAftIdft[:, :, 0], imageAftIdft[:, :, 1])\n",
    "imageAftDft=np.fft.fft2(image)\n",
    "imageAftIdft=np.fft.ifft(imageAftDft)\n",
    "imageAftIdft=np.abs(imageAftIdft)\n",
    "print(imageAftIdft)\n",
    "#plt.imshow(imageAftIdft, cmap='gray')\n",
    "cv2.imshow(\"\",(imageAftIdft/102400).astype(np.uint8))\n",
    "fou=imageAftDft[140:180,140:180]\n",
    "\n",
    "t2=300\n",
    "t1=170\n",
    "#wat_stored=wd.embedWatQuan(fou,t1,t2)\n",
    "#pic=(imageAftIdft).astype(np.uint8)\n",
    "#imageAftDft=cv2.dft(np.float32(pic), flags = cv2.DFT_REAL_OUTPUT)\n",
    "#fou=imageAftDft[140:180,140:180]\n",
    "\n",
    "#base_ratio=wd.detectWatQuan(wat_stored,fou,t1,t2)\n",
    "\n",
    "cv2.waitKey()"
   ]
  },
  {
   "cell_type": "code",
   "execution_count": null,
   "id": "b3b2065a",
   "metadata": {},
   "outputs": [],
   "source": []
  },
  {
   "cell_type": "code",
   "execution_count": null,
   "id": "479f4bd2",
   "metadata": {},
   "outputs": [],
   "source": []
  }
 ],
 "metadata": {
  "kernelspec": {
   "display_name": "dip2",
   "language": "python",
   "name": "dip2"
  },
  "language_info": {
   "codemirror_mode": {
    "name": "ipython",
    "version": 3
   },
   "file_extension": ".py",
   "mimetype": "text/x-python",
   "name": "python",
   "nbconvert_exporter": "python",
   "pygments_lexer": "ipython3",
   "version": "3.6.2"
  }
 },
 "nbformat": 4,
 "nbformat_minor": 5
}
