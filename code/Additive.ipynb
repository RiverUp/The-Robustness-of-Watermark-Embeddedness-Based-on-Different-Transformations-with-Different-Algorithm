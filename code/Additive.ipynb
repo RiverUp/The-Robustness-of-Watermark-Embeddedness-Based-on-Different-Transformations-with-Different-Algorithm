{
 "cells": [
  {
   "cell_type": "code",
   "execution_count": 1,
   "id": "2fac138c",
   "metadata": {},
   "outputs": [
    {
     "name": "stdout",
     "output_type": "stream",
     "text": [
      "93.3230774404\n",
      "0.0677137518058\n",
      "0.21253703823\n",
      "0.838798496595\n",
      "0.584017546864\n",
      "0.0265806280375\n",
      "0.0572939412577\n"
     ]
    }
   ],
   "source": [
    "%load_ext autoreload\n",
    "%autoreload 2\n",
    "import cv2 \n",
    "import numpy as np\n",
    "import pywt\n",
    "import difflib\n",
    "import matplotlib.pyplot as plt\n",
    "import WatermarkOperation as wd\n",
    "import Attack as atk\n",
    "%matplotlib inline\n",
    "\n",
    "\n",
    "image = cv2.imread(\"./image/cover.png\",cv2.IMREAD_GRAYSCALE)\n",
    "np.random.seed(261025)\n",
    "imageAftWav=pywt.wavedec2(image,\"db4\",mode=\"periodization\",level=3,axes=(-2, -1))\n",
    "hl3=imageAftWav[1][0]\n",
    "t2=200\n",
    "t1=175\n",
    "wat_stored=wd.embedWatAddi(hl3,t1)           \n",
    "imageAftIdwt=pywt.waverec2(imageAftWav,\"db4\",mode=\"periodization\",axes=(-2, -1))\n",
    "pic=(imageAftIdwt).astype(np.uint8)\n",
    "imageAftWav2=pywt.wavedec2(pic,\"db4\",mode=\"periodization\",level=3,axes=(-2, -1))\n",
    "hl3=imageAftWav2[1][0]\n",
    "base_ratio=wd.detectWatAddi(wat_stored,hl3,t2)\n",
    "\n",
    "\n",
    "#beforeWater\n",
    "imageAftWav2=pywt.wavedec2(image,\"db4\",mode=\"periodization\",level=3,axes=(-2, -1))\n",
    "hl3=imageAftWav2[1][0]\n",
    "before_ratio=wd.detectWatAddi(wat_stored,hl3,t2)\n",
    "# blur\n",
    "blurred=cv2.GaussianBlur(pic,(5,5),0)\n",
    "imageAftWav2=pywt.wavedec2(blurred,\"db4\",mode=\"periodization\",level=3,axes=(-2, -1))\n",
    "hl3=imageAftWav2[1][0]\n",
    "blurred_ratio=wd.detectWatAddi(wat_stored,hl3,t2)\n",
    "#sharpen\n",
    "sharpened=atk.sharpen(pic)\n",
    "imageAftWav2=pywt.wavedec2(sharpened,\"db4\",mode=\"periodization\",level=3,axes=(-2, -1))\n",
    "hl3=imageAftWav2[1][0]\n",
    "sharpened_ratio=wd.detectWatAddi(wat_stored,hl3,t2)\n",
    "#rotate\n",
    "rotated=atk.rotate(pic)\n",
    "imageAftWav2=pywt.wavedec2(rotated,\"db4\",mode=\"periodization\",level=3,axes=(-2, -1))\n",
    "hl3=imageAftWav2[1][0]\n",
    "rotated_ratio=wd.detectWatAddi(wat_stored,hl3,t2)\n",
    "#crop\n",
    "cropped=atk.crop(pic)\n",
    "imageAftWav2=pywt.wavedec2(cropped,\"db4\",mode=\"periodization\",level=3,axes=(-2, -1))\n",
    "hl3=imageAftWav2[1][0]\n",
    "cropped_ratio=wd.detectWatAddi(wat_stored,hl3,t2)\n",
    "#compress\n",
    "cv2.imwrite(\"./image/AdditiveImg/compressed.jpg\", pic, [cv2.IMWRITE_JPEG_QUALITY, 50])\n",
    "compressed=cv2.imread(\"./image/AdditiveImg/compressed.jpg\",cv2.IMREAD_GRAYSCALE)\n",
    "imageAftWav2=pywt.wavedec2(compressed,\"db4\",mode=\"periodization\",level=3,axes=(-2, -1))\n",
    "hl3=imageAftWav2[1][0]\n",
    "compressed_ratio=wd.detectWatAddi(wat_stored,hl3,t2)\n",
    "# salt and pepper\n",
    "saltAndPep=atk.saltAndPepper(pic,0.95)\n",
    "imageAftWav2=pywt.wavedec2(saltAndPep,\"db4\",mode=\"periodization\",level=3,axes=(-2, -1))\n",
    "hl3=imageAftWav2[1][0]\n",
    "saltAndPep_ratio=wd.detectWatAddi(wat_stored,hl3,t2)\n",
    "\n",
    "cv2.imwrite(\"./image/AdditiveImg/blurred.jpg\",blurred,[cv2.IMWRITE_JPEG_QUALITY, 100])\n",
    "cv2.imwrite(\"./image/AdditiveImg/sharpened.jpg\",sharpened,[cv2.IMWRITE_JPEG_QUALITY, 100])\n",
    "cv2.imwrite(\"./image/AdditiveImg/rotated.jpg\",rotated,[cv2.IMWRITE_JPEG_QUALITY, 100])\n",
    "cv2.imwrite(\"./image/AdditiveImg/cropped.jpg\",cropped,[cv2.IMWRITE_JPEG_QUALITY, 100])\n",
    "#cv2.imwrite(\"./image/AdditiveImg/compressed.jpg\",compressed,[cv2.IMWRITE_JPEG_QUALITY, 100])\n",
    "cv2.imwrite(\"./image/AdditiveImg/saltAndPep.jpg\",saltAndPep,[cv2.IMWRITE_JPEG_QUALITY, 100])\n",
    "cv2.imwrite(\"./image/AdditiveImg/beforeAttack.jpg\",pic,[cv2.IMWRITE_JPEG_QUALITY, 100])\n",
    "\n",
    "print(base_ratio)\n",
    "print(abs(blurred_ratio-base_ratio)/abs(before_ratio-base_ratio))\n",
    "print(abs(sharpened_ratio-base_ratio)/abs(before_ratio-base_ratio))\n",
    "print(abs(rotated_ratio-base_ratio)/abs(before_ratio-base_ratio))\n",
    "print(abs(cropped_ratio-base_ratio)/abs(before_ratio-base_ratio))\n",
    "print(abs(compressed_ratio-base_ratio)/abs(before_ratio-base_ratio))\n",
    "print(abs(saltAndPep_ratio-base_ratio)/abs(before_ratio-base_ratio))\n",
    "\n",
    "#cv2.waitKey()"
   ]
  },
  {
   "cell_type": "code",
   "execution_count": null,
   "id": "4e9d0766",
   "metadata": {},
   "outputs": [],
   "source": [
    "                        "
   ]
  },
  {
   "cell_type": "code",
   "execution_count": null,
   "id": "1a31ea9e",
   "metadata": {},
   "outputs": [],
   "source": []
  }
 ],
 "metadata": {
  "kernelspec": {
   "display_name": "dip2",
   "language": "python",
   "name": "dip2"
  },
  "language_info": {
   "codemirror_mode": {
    "name": "ipython",
    "version": 3
   },
   "file_extension": ".py",
   "mimetype": "text/x-python",
   "name": "python",
   "nbconvert_exporter": "python",
   "pygments_lexer": "ipython3",
   "version": "3.6.2"
  }
 },
 "nbformat": 4,
 "nbformat_minor": 5
}
