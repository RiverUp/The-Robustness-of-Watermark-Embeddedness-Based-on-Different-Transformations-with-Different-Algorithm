{
 "cells": [
  {
   "cell_type": "code",
   "execution_count": 1,
   "id": "9ca74da3",
   "metadata": {},
   "outputs": [
    {
     "name": "stdout",
     "output_type": "stream",
     "text": [
      "0.433900249829\n",
      "nan\n",
      "0.42853622669\n",
      "0.320326149202\n",
      "1.18633501773\n",
      "0.265354032331\n",
      "1.60863709221\n"
     ]
    },
    {
     "name": "stderr",
     "output_type": "stream",
     "text": [
      "/home/riverup/DIP/LastReport/WatermarkOperation.py:61: RuntimeWarning: invalid value encountered in double_scalars\n",
      "  NCC=sum0/(np.sqrt(sum1)*np.sqrt(sum2))\n"
     ]
    }
   ],
   "source": [
    "%load_ext autoreload\n",
    "%autoreload 2\n",
    "import cv2 \n",
    "import numpy as np\n",
    "import pywt\n",
    "import WatermarkOperation as wd\n",
    "import Attack as atk\n",
    "import matplotlib.pyplot as plt\n",
    "%matplotlib inline\n",
    "\n",
    "image = cv2.imread(\"./image/cover.png\",cv2.IMREAD_GRAYSCALE)\n",
    "np.random.seed(261025)\n",
    "imageAftDft=cv2.dft(np.float32(image), flags = cv2.DFT_REAL_OUTPUT)\n",
    "\n",
    "\n",
    "#plt.imshow(imageAftIdft, cmap='gray')\n",
    "#cv2.imshow(\"\",(imageAftIdft/102400).astype(np.uint8))\n",
    "fou=imageAftDft[140:180,140:180]\n",
    "#print(np.max(fou))\n",
    "\n",
    "t2=300\n",
    "t1=170\n",
    "wat_stored=wd.embedWatQuan(fou,t1,t2)\n",
    "imageAftIdft=cv2.idft(imageAftDft)\n",
    "pic=(imageAftIdft/102400).astype(np.uint8)\n",
    "cv2.imshow(\"\",pic)\n",
    "imageAftDft=cv2.dft(np.float32(pic), flags = cv2.DFT_REAL_OUTPUT)\n",
    "fou=imageAftDft[140:180,140:180]\n",
    "\n",
    "base_ratio=wd.detectWatQuan(wat_stored,fou,t1,t2)\n",
    "\n",
    "#beforeWater\n",
    "image = cv2.imread(\"./image/cover.png\",cv2.IMREAD_GRAYSCALE)\n",
    "imageAftDft=cv2.dft(np.float32(image), flags = cv2.DFT_REAL_OUTPUT)\n",
    "fou=imageAftDft[140:180,140:180]\n",
    "before_ratio=wd.detectWatQuan(wat_stored,fou,t1,t2)\n",
    "#blur\n",
    "blurred=cv2.GaussianBlur(pic,(5,5),0)\n",
    "imageAftDft=cv2.dft(np.float32(blurred), flags = cv2.DFT_REAL_OUTPUT)\n",
    "fou=imageAftDft[140:180,140:180]\n",
    "blurred_ratio=wd.detectWatQuan(wat_stored,fou,t1,t2)\n",
    "#sharpen\n",
    "sharpened=atk.sharpen(pic)\n",
    "imageAftDft=cv2.dft(np.float32(sharpened), flags = cv2.DFT_REAL_OUTPUT)\n",
    "fou=imageAftDft[140:180,140:180]\n",
    "sharpened_ratio=wd.detectWatQuan(wat_stored,fou,t1,t2)\n",
    "#rotate\n",
    "rotated=atk.rotate(pic)\n",
    "imageAftDft=cv2.dft(np.float32(rotated), flags = cv2.DFT_REAL_OUTPUT)\n",
    "fou=imageAftDft[140:180,140:180]\n",
    "rotated_ratio=wd.detectWatQuan(wat_stored,fou,t1,t2)\n",
    "#crop\n",
    "cropped=atk.crop(pic)\n",
    "imageAftDft=cv2.dft(np.float32(cropped), flags = cv2.DFT_REAL_OUTPUT)\n",
    "fou=imageAftDft[140:180,140:180]\n",
    "cropped_ratio=wd.detectWatQuan(wat_stored,fou,t1,t2)\n",
    "#compress\n",
    "cv2.imwrite(\"./image/FourierImg/compressed.jpg\", pic, [cv2.IMWRITE_JPEG_QUALITY, 50])\n",
    "compressed=cv2.imread(\"./image/FourierImg/compressed.jpg\",cv2.IMREAD_GRAYSCALE)\n",
    "imageAftDft=cv2.dft(np.float32(compressed), flags = cv2.DFT_REAL_OUTPUT)\n",
    "fou=imageAftDft[140:180,140:180]\n",
    "compressed_ratio=wd.detectWatQuan(wat_stored,fou,t1,t2)\n",
    "# salt and pepper\n",
    "saltAndPep=atk.saltAndPepper(pic,0.95)\n",
    "imageAftDft=cv2.dft(np.float32(saltAndPep), flags = cv2.DFT_REAL_OUTPUT)\n",
    "fou=imageAftDft[140:180,140:180]\n",
    "saltAndPep_ratio=wd.detectWatQuan(wat_stored,fou,t1,t2)\n",
    "\n",
    "cv2.imwrite(\"./image/FourierImg/blurred.jpg\",blurred,[cv2.IMWRITE_JPEG_QUALITY, 100])\n",
    "cv2.imwrite(\"./image/FourierImg/sharpened.jpg\",sharpened,[cv2.IMWRITE_JPEG_QUALITY, 100])\n",
    "cv2.imwrite(\"./image/FourierImg/rotated.jpg\",rotated,[cv2.IMWRITE_JPEG_QUALITY, 100])\n",
    "cv2.imwrite(\"./image/FourierImg/cropped.jpg\",cropped,[cv2.IMWRITE_JPEG_QUALITY, 100])\n",
    "#cv2.imwrite(\"./image/FourierImg/compressed.jpg\",compressed,[cv2.IMWRITE_JPEG_QUALITY, 100])\n",
    "cv2.imwrite(\"./image/FourierImg/saltAndPep.jpg\",saltAndPep,[cv2.IMWRITE_JPEG_QUALITY, 100])\n",
    "cv2.imwrite(\"./image/FourierImg/beforeAttack.jpg\",pic,[cv2.IMWRITE_JPEG_QUALITY, 100])\n",
    "\n",
    "print(base_ratio)\n",
    "print(abs(blurred_ratio-base_ratio)/abs(before_ratio-base_ratio))\n",
    "print(abs(sharpened_ratio-base_ratio)/abs(before_ratio-base_ratio))\n",
    "print(abs(rotated_ratio-base_ratio)/abs(before_ratio-base_ratio))\n",
    "print(abs(cropped_ratio-base_ratio)/abs(before_ratio-base_ratio))\n",
    "print(abs(compressed_ratio-base_ratio)/abs(before_ratio-base_ratio))\n",
    "print(abs(saltAndPep_ratio-base_ratio)/abs(before_ratio-base_ratio))\n",
    "#cv2.waitKey()"
   ]
  },
  {
   "cell_type": "code",
   "execution_count": null,
   "id": "924dad95",
   "metadata": {},
   "outputs": [],
   "source": []
  },
  {
   "cell_type": "code",
   "execution_count": null,
   "id": "7c63e07a",
   "metadata": {},
   "outputs": [],
   "source": []
  }
 ],
 "metadata": {
  "kernelspec": {
   "display_name": "dip2",
   "language": "python",
   "name": "dip2"
  },
  "language_info": {
   "codemirror_mode": {
    "name": "ipython",
    "version": 3
   },
   "file_extension": ".py",
   "mimetype": "text/x-python",
   "name": "python",
   "nbconvert_exporter": "python",
   "pygments_lexer": "ipython3",
   "version": "3.6.2"
  }
 },
 "nbformat": 4,
 "nbformat_minor": 5
}
